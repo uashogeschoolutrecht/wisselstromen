{
 "cells": [
  {
   "cell_type": "markdown",
   "metadata": {},
   "source": [
    "# Wisselstromen\n",
    "\n",
    "Dit notebook heeft als input het (voorlopige) (geanonimiseerde) bekostigingsbestand en doet het volgende:\n",
    "1. Inladen van de ruwe bekostigings-data en headers\n",
    "2. Opsplitsen van de data naar recordsoort\n",
    "3. Selecteer alleen BRD data\n",
    "3. Schoonmaken \n",
    "\n",
    "Het door DUO aangeleverde bestand bevat verschillende recordsoorten met verschillende lengte in één bestand, zonder bijbehorende headers. De headers zijn beschikbaar in [Bijlage 8 van de Programma van Eisen Hoger Onderwijs, DUO](https://duo.nl/zakelijk/images/programma-van-eisen-hoger-onderwijs.pdf). "
   ]
  },
  {
   "cell_type": "code",
   "execution_count": 1,
   "metadata": {},
   "outputs": [],
   "source": [
    "# Load all libraries\n",
    "import os\n",
    "%run -i bk-functies.py # Load bk-functies script"
   ]
  },
  {
   "cell_type": "markdown",
   "metadata": {},
   "source": [
    "# Inladen data\n",
    "Er zijn 2 databronnen die ingeladen dienen te worden: het DUO bekostigingsbestand en de bijbehorende headers. "
   ]
  },
  {
   "cell_type": "markdown",
   "metadata": {},
   "source": [
    "## Voorbereiden inladen DUO bekostigingsbestand"
   ]
  },
  {
   "cell_type": "code",
   "execution_count": 2,
   "metadata": {},
   "outputs": [],
   "source": [
    " # First find which user is running this script to determine \n",
    " # the folder structure to the data\n",
    "username = os.getlogin()\n",
    "\n",
    "# Define the folder and the file names\n",
    "bk_folder = (\n",
    "    f'C:\\\\Users\\\\{username}\\\\OneDrive - Stichting Hogeschool Utrecht\\\\Documents\\\\'\n",
    "    'git repos\\\\wisselstromen\\\\data') \n",
    "bk_file = 'DEFBEK_2025_20240522_25DW.csv' #use already anonimised file for testing"
   ]
  },
  {
   "cell_type": "markdown",
   "metadata": {},
   "source": [
    "## Inladen bijbehorende headers\n",
    "Bron van deze data is de [Bijlage 8 van de Programma van Eisen Hoger Onderwijs, DUO](https://duo.nl/zakelijk/images/programma-van-eisen-hoger-onderwijs.pdf). Let op dit is hardcoded, en kan dus (nog) niet omgaan met wijzigingen in het bronbestand. "
   ]
  },
  {
   "cell_type": "code",
   "execution_count": 3,
   "metadata": {},
   "outputs": [],
   "source": [
    "# Dictionary with column names for each recordsoort\n",
    "bk_headers = {\n",
    "    'VLP': [\n",
    "        'Recordsoort',\n",
    "        'BRIN',\n",
    "        'Bekostigingsjaar',\n",
    "        'Datum aanmaak'\n",
    "    ],\n",
    "    'BLB': [\n",
    "        'Recordsoort',\n",
    "        'Burgerservicenummer',\n",
    "        'Onderwijsnummer', \n",
    "        'DatumGraadBehaaldAD',\n",
    "        'DatumGraadBehaaldADLG', \n",
    "        'DatumGraadBehaaldBa', \n",
    "        'DatumGraadBehaaldBaLG', \n",
    "        'DatumGraadBehaaldMa', \n",
    "        'DatumGraadBehaaldMaLG', \n",
    "        'VerbruikAD', \n",
    "        'VerbruikADLG', \n",
    "        'VerbruikBA', \n",
    "        'VerbruikBALG', \n",
    "        'VerbruikMA', \n",
    "        'VerbruikMALG', \n",
    "        'AantalBekostigdeInschrijvingenBa', \n",
    "        'AantalBekostigdeInschrijvingenBaLG', \n",
    "        'AantalBekostigdeInschrijvingenMa', \n",
    "        'AantalBekostigdeInschrijvingenMaLG', \n",
    "        'AantalBekostigdeInschrijvingenBaLGnaGraadBaMa', \n",
    "        'AantalBekostigdeInschrijvingenMaLGnaGraadMa'\n",
    "    ],\n",
    "    'BRD': [\n",
    "        'Recordsoort',\n",
    "        'Burgerservicenummer',\n",
    "        'Onderwijsnummer',\n",
    "        'Brin',\n",
    "        'inschrijvingvolgnummer',\n",
    "        'Bekostigingsindicatie',\n",
    "        'CodeBekostigingstatus',\n",
    "        'bekostigingsniveau',\n",
    "        'opleidingscode',\n",
    "        'opleidingsniveau',\n",
    "        'opleidingsfase',\n",
    "        'datumInschrijving',\n",
    "        'datumUitschrijving',\n",
    "        'eersteInschrijving',\n",
    "        'inschrijvingsvorm',\n",
    "        'onderwijsvorm',\n",
    "        'datumEersteAanlevering',\n",
    "        'bekostigingsduur',\n",
    "        'OnderopleidingOnderdeel',\n",
    "        'bekostigingscode',\n",
    "        'indicatieSectorLG',\n",
    "        'indicatieBaMa',\n",
    "        'indicatieAcademischZiekenhuisenhuis',\n",
    "        'indicatieNationaliteitsvoorwaardeSF',\n",
    "        'indicatieGBARelatie'\n",
    "    ],\n",
    "    'BRR': [\n",
    "        'Recordsoort',\n",
    "        'Burgerservicenummer',\n",
    "        'Onderwijsnummer',\n",
    "        'Brin',\n",
    "        'resultaatvolgnummer',\n",
    "        'Bekostigingsindicatie',\n",
    "        'CodeBekostigingstatus',\n",
    "        'bekostigingsniveau',\n",
    "        'JointDegreeFactor',\n",
    "        'opleidingscode',\n",
    "        'opleidingsniveau',\n",
    "        'opleidingsfase',\n",
    "        'eersteGraad',\n",
    "        'datumDiploma',\n",
    "        'onderwijsvorm',\n",
    "        'datumEersteAanlevering',\n",
    "        'opleidingOnderdeel',\n",
    "        'bekostigingscode',\n",
    "        'indicatieSectorLG',\n",
    "        'indicatieBaMa',\n",
    "        'indicatieAcademischZiekenhuis',\n",
    "        'indicatieGraadTeltVoorBekostigingsloopbaan',\n",
    "        'indicatieNationaliteitsvoorwaardeSF',\n",
    "        'indicatieGBARelatie'\n",
    "    ],\n",
    "    'SLR': [\n",
    "        'Recordsoort',\n",
    "        'AantalBLBrecords',\n",
    "        'AantalBRDrecords',\n",
    "        'AantalBRRrecords'\n",
    "    ]\n",
    "}"
   ]
  },
  {
   "cell_type": "markdown",
   "metadata": {},
   "source": [
    "## Laad de ruwe bekostigingsdata, voeg headers toe en groepeer."
   ]
  },
  {
   "cell_type": "code",
   "execution_count": 4,
   "metadata": {},
   "outputs": [],
   "source": [
    "# Load and group bekostigings data into a dictionary and add headers\n",
    "bk_raw_dict = load_and_group_data(bk_folder, bk_file, bk_headers)"
   ]
  },
  {
   "cell_type": "code",
   "execution_count": 10,
   "metadata": {},
   "outputs": [],
   "source": [
    "# Get recordsoorten in a list\n",
    "recordsoort = list(bk_raw_dict.keys())\n",
    "\n",
    "# Extract BRD data from dict\n",
    "df_brd = bk_raw_dict.get('BRD')"
   ]
  }
 ],
 "metadata": {
  "kernelspec": {
   "display_name": "Python 3",
   "language": "python",
   "name": "python3"
  },
  "language_info": {
   "codemirror_mode": {
    "name": "ipython",
    "version": 3
   },
   "file_extension": ".py",
   "mimetype": "text/x-python",
   "name": "python",
   "nbconvert_exporter": "python",
   "pygments_lexer": "ipython3",
   "version": "3.13.0"
  }
 },
 "nbformat": 4,
 "nbformat_minor": 2
}
