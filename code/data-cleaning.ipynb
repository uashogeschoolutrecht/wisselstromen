{
 "cells": [
  {
   "cell_type": "markdown",
   "metadata": {},
   "source": [
    "# Wisselstromen\n",
    "\n",
    "Dit notebook heeft als input het (voorlopige) bekostigingsbestand en doet 2 dingen:\n",
    "1. anonimiseren, en\n",
    "2. opsplitsen in een bestand voor elke recordsoort. \n",
    "\n",
    "Het is ook mogelijk om dit script te runnen met het al geanonimiseerde bestand. \n",
    "\n",
    "Het door DUO aangeleverde bestand bevat verschillende recordsoorten met verschillende lengte in één bestand, zonder bijbehorende headers. De headers zijn beschikbaar in [Bijlage 8 van de Programma van Eisen Hoger Onderwijs, DUO](https://duo.nl/zakelijk/images/programma-van-eisen-hoger-onderwijs.pdf). \n",
    "\n",
    "Na het runnen van dit script worden 5 verschillende CSV bestanden aangemaakt in de output folder:\n",
    "1. Alle records van recordsoort BLB: Bekostigingsloopbaan\n",
    "2. Alle records van recordsoort BRD: Bekostigingsresultaat deelname\n",
    "3. Alle records van recordsoort BRR: Bekostigingsresultaat resultaat\n",
    "4. Het originele input bestand, alleen geanonimiseerd\n",
    "5. Sleutelbestand \n",
    "\n",
    "Bestanden 1 t/m 3 zijn bedoeld voor analyse van het bekostingsbestand; deze bevatten dezelfde gegevens als het bekostigingsbestand, gesplitst naar recordsoort.\n",
    "Bestand 4 is de geanonimiseerde versie van het originele bestand, bedoeld om het R-script te testen.\n",
    "Bestand 5 bevat alle persoonsnummers en bijbehorend id om later te kunnen koppelen met attibuten uit eigen databases.\n"
   ]
  },
  {
   "cell_type": "code",
   "execution_count": 1,
   "metadata": {},
   "outputs": [],
   "source": [
    "# Load all libraries\n",
    "import os\n",
    "%run -i bk-functies.py # Load bk-functies script"
   ]
  },
  {
   "cell_type": "markdown",
   "metadata": {},
   "source": [
    "# Inladen data\n",
    "Er zijn 2 databronnen die ingeladen dienen te worden: het DUO bekostigingsbestand en de bijbehorende headers. "
   ]
  },
  {
   "cell_type": "code",
   "execution_count": null,
   "metadata": {},
   "outputs": [],
   "source": [
    "# Define the folder and the file\n",
    "username = os.getlogin() # First find which user is running this script to determine the folder structure to the data\n",
    "folder = f'C:\\\\Users\\\\{username}\\\\OneDrive - Stichting Hogeschool Utrecht\\\\Documents\\\\git repos\\\\wisselstromen\\\\data' #use already anonimised file for testing\n",
    "file = 'DEFBEK_2025_20240522_25DW.csv'\n",
    "\n",
    "# Load and group bekostigings data into a dictionary\n",
    "bk_raw_dict = load_and_group_data(folder, file)"
   ]
  }
 ],
 "metadata": {
  "kernelspec": {
   "display_name": "Python 3",
   "language": "python",
   "name": "python3"
  },
  "language_info": {
   "codemirror_mode": {
    "name": "ipython",
    "version": 3
   },
   "file_extension": ".py",
   "mimetype": "text/x-python",
   "name": "python",
   "nbconvert_exporter": "python",
   "pygments_lexer": "ipython3",
   "version": "3.13.0"
  }
 },
 "nbformat": 4,
 "nbformat_minor": 2
}
