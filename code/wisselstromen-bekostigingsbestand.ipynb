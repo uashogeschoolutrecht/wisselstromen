{
 "cells": [
  {
   "cell_type": "markdown",
   "metadata": {},
   "source": [
    "# Wisselstromen\n",
    "\n",
    "Dit script is bedoeld om het (voorlopige) bekostigingsbestand van DUO te anonimiseren en om te zetten in een makkelijk leesbaar bestandformaat. \n",
    "\n",
    "Het door DUO aangeleverde bestand bevat verschillende recordsoorten met verschillende lengte in één bestand, zonder bijbehorende headers. \n",
    "\n",
    "Na het runnen van dit script worden verschillende bestanden aangemaakt in de output folder:\n",
    "1. CSV bestand voor recordsoort BLB: Bekostigingsloopbaan\n",
    "2. CSV bestand voor recordsoort BRD: Bekostigingsresultaat deelname\n",
    "3. CSV bestand voor recordsoort BRR: Bekostigingsresultaat resultaat\n",
    "4. outputbestand\n",
    "5. sleutelbestand\n",
    "\n",
    "Bestanden 1 t/m 3 zijn bedoeld voor analyse van het bekostingsbestand; deze bevatten dezelfde gegevens als het bekostigingsbestand, gesplitst naar recordsoort.\n",
    "\n",
    "Bestand 4 is de geanonimiseerde versie van het originele bestand, bedoeld om het R-script te testen.\n",
    "\n",
    "Bestand 5 bevat alle persoonsnummers en bijbehorend id om later te kunnen koppelen met attibuten uit eigen databases.\n",
    "\n"
   ]
  },
  {
   "cell_type": "markdown",
   "metadata": {},
   "source": [
    "## Definities\n",
    "\n",
    "Zie **PvE HO-instelling - DUO, Bijlage 8: Bestandsbeschrijving analysebestand voorlopige en definitieve bekostiging voor HO-instellingen, p.168 e.v.**"
   ]
  },
  {
   "cell_type": "markdown",
   "metadata": {},
   "source": [
    "### 17.5 Formaat\n",
    "Het bestand bevat de volgende recordsoorten:\n",
    "VLP = Voorlooprecord  \n",
    "BLB = Bekostigingsloopbaan student  \n",
    "BRD = Bekostigingsresultaat deelname  \n",
    "BRR = Bekostigingsresultaat resultaat  \n",
    "SLR = Sluitrecord\n",
    "\n",
    "- Een voorlooprecord (**VLP**);\n",
    "- Setjes van alle records met de bekostiging van de betrokken persoon. De persoon wordt opgenomen indien hij minimaal één bekostigingsresultaat voor een\n",
    "deelname of resultaat heeft bij de betrokken BRIN.\n",
    "    - Nul of één **BLB**-record:  \n",
    "    - Nul, één of meer **BRD**-records; Dit zijn alle bekostigingsresultaten van in het bekostigingsjaar beoordeelde deelnames. Daarnaast worden er\n",
    "deelnames geselecteerd, die buiten de beoordeling vallen. Deze krijgen de status MV, om zo alle inschrijvingen van de betreffende persoon, die geldig\n",
    "zijn in de periode 2 oktober van het bekostigingsjaar - 3 tot en met 1 oktober van het bekostigingsjaar - 2 worden, in het bestand op te nemen.\n",
    "Dit kunnen ook bekostigingsresultaten bij andere instellingen zijn.  \n",
    "    - Nul, één of meer **BRR**-records; Dit zijn alle bekostigingsresultaten van in het bekostigingsjaar beoordeelde resultaten. Dit kunnen ook\n",
    "bekostigingsresultaten bij andere instellingen zijn. \n",
    "    - Voor een persoon zal er altijd op zijn minst één BRD- of één BRR-recordzijn;  \n",
    "    - De records die betrekking hebben op dezelfde persoon, hebben alle hetzelfde burgerservice- en/of onderwijsnummer.  \n",
    "- Een sluitrecord met aantal BLB, BRD en BRR-records (**SLR**);\n",
    "\n",
    "De velden van een record worden gescheiden door een pipe-teken (|). Het eerste veld\n",
    "van een record geeft altijd de recordsoort aan.\n",
    "\n",
    "De BLB-records zijn oplopend gesorteerd op burgerservicenummer. Als er geen\n",
    "burgerservicenummer is dan oplopend op onderwijsnummer, waarbij records met alleen\n",
    "een onderwijsnummer achteraan staan."
   ]
  },
  {
   "cell_type": "markdown",
   "metadata": {},
   "source": [
    "### 17.6 Datumformaat\n",
    "Datumvelden zijn in het formaat JJJJMMDD; Het betreft dus een numeriek veld van 8 positite slang. In de onderstaande beschrijving wordt dit in de kolom 'Formaat' aangegeven als 'Datum 8 (jjjjmmdd)'\n"
   ]
  },
  {
   "cell_type": "markdown",
   "metadata": {},
   "source": [
    "## Bestanden laden"
   ]
  },
  {
   "cell_type": "code",
   "execution_count": 11,
   "metadata": {},
   "outputs": [],
   "source": [
    "import pandas as pd\n",
    "import os\n"
   ]
  },
  {
   "cell_type": "markdown",
   "metadata": {},
   "source": [
    "### Headers voorbereiden\n",
    "In de bestanden staan geen headers. Deze worden hieronder apart ingeladen."
   ]
  },
  {
   "cell_type": "code",
   "execution_count": 12,
   "metadata": {},
   "outputs": [
    {
     "name": "stdout",
     "output_type": "stream",
     "text": [
      "CSV files have been created in the 'headers' folder.\n"
     ]
    }
   ],
   "source": [
    "# Dictionary with column names for each recordsoort (source = PvE)\n",
    "columns_to_sum = {\n",
    "    'VLP': [\n",
    "        'Recordsoort',\n",
    "        'BRIN',\n",
    "        'Bekostigingsjaar',\n",
    "        'Datum aanmaak'\n",
    "    ],\n",
    "    'BLB': [\n",
    "        'Recordsoort',\n",
    "        'Burgerservicenummer',\n",
    "        'Onderwijsnummer', \n",
    "        'DatumGraadBehaaldAD',\n",
    "        'DatumGraadBehaaldADLG', \n",
    "        'DatumGraadBehaaldBa', \n",
    "        'DatumGraadBehaaldBaLG', \n",
    "        'DatumGraadBehaaldMa', \n",
    "        'DatumGraadBehaaldMaLG', \n",
    "        'VerbruikAD', \n",
    "        'VerbruikADLG', \n",
    "        'VerbruikBA', \n",
    "        'VerbruikBALG', \n",
    "        'VerbruikMA', \n",
    "        'VerbruikMALG', \n",
    "        'AantalBekostigdeInschrijvingenBa', \n",
    "        'AantalBekostigdeInschrijvingenBaLG', \n",
    "        'AantalBekostigdeInschrijvingenMa', \n",
    "        'AantalBekostigdeInschrijvingenMaLG', \n",
    "        'AantalBekostigdeInschrijvingenBaLGnaGraadBaMa', \n",
    "        'AantalBekostigdeInschrijvingenMaLGnaGraadMa'\n",
    "    ],\n",
    "    'BRD': [\n",
    "        'Recordsoort',\n",
    "        'Burgerservicenummer',\n",
    "        'Onderwijsnummer',\n",
    "        'Brin',\n",
    "        'inschrijvingvolgnummer',\n",
    "        'Bekostigingsindicatie',\n",
    "        'CodeBekostigingstatus',\n",
    "        'bekostigingsniveau',\n",
    "        'opleidingscode',\n",
    "        'opleidingsniveau',\n",
    "        'opleidingsfase',\n",
    "        'datumInschrijving',\n",
    "        'datumUitschrijving',\n",
    "        'eersteInschrijving',\n",
    "        'inschrijvingsvorm',\n",
    "        'onderwijsvorm',\n",
    "        'datumEersteAanlevering',\n",
    "        'bekostigingsduur',\n",
    "        'OnderopleidingOnderdeel',\n",
    "        'bekostigingscode',\n",
    "        'indicatieSectorLG',\n",
    "        'indicatieBaMa',\n",
    "        'indicatieAcademischZiekenhuisenhuis',\n",
    "        'indicatieNationaliteitsvoorwaardeSF',\n",
    "        'indicatieGBARelatie'\n",
    "    ],\n",
    "    'BRR': [\n",
    "        'Recordsoort',\n",
    "        'Burgerservicenummer',\n",
    "        'Onderwijsnummer',\n",
    "        'Brin',\n",
    "        'resultaatvolgnummer',\n",
    "        'Bekostigingsindicatie',\n",
    "        'CodeBekostigingstatus',\n",
    "        'bekostigingsniveau',\n",
    "        'JointDegreeFactor',\n",
    "        'opleidingscode',\n",
    "        'opleidingsniveau',\n",
    "        'opleidingsfase',\n",
    "        'eersteGraad',\n",
    "        'datumDiploma',\n",
    "        'onderwijsvorm',\n",
    "        'datumEersteAanlevering',\n",
    "        'opleidingOnderdeel',\n",
    "        'bekostigingscode',\n",
    "        'indicatieSectorLG',\n",
    "        'indicatieBaMa',\n",
    "        'indicatieAcademischZiekenhuis',\n",
    "        'indicatieGraadTeltVoorBekostigingsloopbaan',\n",
    "        'indicatieNationaliteitsvoorwaardeSF',\n",
    "        'indicatieGBARelatie'\n",
    "    ],\n",
    "    'SLR': [\n",
    "        'Recordsoort',\n",
    "        'AantalBLBrecords',\n",
    "        'AantalBRDrecords',\n",
    "        'AantalBRRrecords'\n",
    "    ]\n",
    "}\n",
    "\n",
    "# Directory to save CSV files\n",
    "output_folder = 'headers'\n",
    "os.makedirs(output_folder, exist_ok=True)\n",
    "\n",
    "# Generate dataframe for each key in the dictionary\n",
    "for recordsoort, columns in columns_to_sum.items():\n",
    "    df = pd.DataFrame(columns=columns)\n",
    "    \n",
    "    # Save the dataframe to a CSV file named <key>.csv in the 'headers' folder\n",
    "    df.to_csv(f'{output_folder}/{recordsoort}.csv', index=False)\n",
    "\n",
    "print(\"CSV files have been created in the 'headers' folder.\")\n"
   ]
  },
  {
   "cell_type": "markdown",
   "metadata": {},
   "source": [
    "### Functie om csv bestanden op te delen in verschillende dataframes\n",
    "De bekostigingsbestanden bevatten verschillende record soorten, met elk een verschillend aantal kolommen. Deze functie maakt per record soort een apart dataframe aan met als naam DF_[record soort]."
   ]
  },
  {
   "cell_type": "code",
   "execution_count": 13,
   "metadata": {},
   "outputs": [],
   "source": [
    "def load_and_group_data(folder, file, sep='|'):\n",
    "    \"\"\"\n",
    "    Loads a CSV file, groups rows by the first column (recordsoort),\n",
    "    and stores each group as a DataFrame in a dictionary.\n",
    "    \n",
    "    Args:\n",
    "        folder (str): The folder containing the file.\n",
    "        file (str): The name of the file.\n",
    "        sep (str): The separator used in the CSV file (default is '|').\n",
    "        \n",
    "    Returns:\n",
    "        dict: A dictionary where keys are the recordsoort from the first column, \n",
    "              and values are DataFrames containing the rows for each recordsoort.\n",
    "    \"\"\"\n",
    "    path = os.path.join(folder, file)\n",
    "\n",
    "    # Step 1: Create a dictionary with the header names per recordsoort\n",
    "    input_folder = 'headers' # Directory containing the CSV files with the headers\n",
    "\n",
    "    columns_to_sum = {}\n",
    "\n",
    "    for filename in os.listdir(input_folder):\n",
    "        if filename.endswith('.csv'):\n",
    "            file_path = os.path.join(input_folder, filename)\n",
    "            \n",
    "            df = pd.read_csv(file_path)\n",
    "\n",
    "            recordsoort = filename.replace('.csv', '') # Get the recordsoort from the file name (without the .csv extension)\n",
    "            columns_to_sum[recordsoort] = df.columns.tolist()\n",
    "\n",
    "    # Step 2: Open file bekostigingsbestand and make a list of all the unique recordsoorten\n",
    "    recordsoorten = set()\n",
    "\n",
    "    with open(path, 'r') as f:\n",
    "        for line in f:\n",
    "            row = line.strip().split(sep)\n",
    "            recordsoorten.add(row[0])  # Add the first column value (recordsoort) to the set\n",
    "\n",
    "    # Step 3: Initialize a dictionary with the recordsoort as key\n",
    "    df_dict = {recordsoort: [] for recordsoort in recordsoorten}\n",
    "\n",
    "    # Step 4: Open the file again and append the row to the appropriate dataframe list\n",
    "    with open(path, 'r') as f:\n",
    "        for line in f:\n",
    "            row = line.strip().split(sep)\n",
    "            recordsoort = row[0]\n",
    "            df_dict[recordsoort].append(row)  \n",
    "\n",
    "    # Step 5: Convert lists to dataframes\n",
    "    for recordsoort, rows in df_dict.items():\n",
    "        df_dict[recordsoort] = pd.DataFrame(rows)\n",
    "\n",
    "    # Step 6: Assign columns from step 1 to each dataframe\n",
    "    for recordsoort, df in df_dict.items():\n",
    "        if recordsoort in columns_to_sum:\n",
    "            columns = columns_to_sum[recordsoort]\n",
    "            max_columns = len(columns)\n",
    "            \n",
    "            # Adjust the DataFrame to match the expected number of columns\n",
    "            df = df.iloc[:, :max_columns]  # Limit to expected number of columns\n",
    "            df.columns = columns\n",
    "            \n",
    "            # Add missing columns if any specified columns are absent\n",
    "            for col in columns:\n",
    "                if col not in df.columns:\n",
    "                    df[col] = ''  # Initialize as empty string if missing\n",
    "        \n",
    "        # Update the dataframe in the dictionary\n",
    "        df_dict[recordsoort] = df\n",
    "\n",
    "    return df_dict\n"
   ]
  },
  {
   "cell_type": "markdown",
   "metadata": {},
   "source": [
    "### Bestand 1: DEFBEK_LO_2025_20240522_25DW.csv"
   ]
  },
  {
   "cell_type": "code",
   "execution_count": 14,
   "metadata": {},
   "outputs": [],
   "source": [
    "folder = 'data'\n",
    "file = 'DEFBEK_LO_2025_20240522_25DW.csv'\n",
    "\n",
    "df_dict = load_and_group_data(folder, file)\n"
   ]
  },
  {
   "cell_type": "markdown",
   "metadata": {},
   "source": [
    "### Bestand 2: DEFBEK_2025_20240522_25DW.csv"
   ]
  },
  {
   "cell_type": "code",
   "execution_count": 15,
   "metadata": {},
   "outputs": [],
   "source": [
    "folder = 'data'\n",
    "file = 'DEFBEK_2025_20240522_25DW.csv'\n",
    "\n",
    "df_dict = load_and_group_data(folder, file)\n"
   ]
  },
  {
   "cell_type": "markdown",
   "metadata": {},
   "source": [
    "### Dataframes maken"
   ]
  },
  {
   "cell_type": "code",
   "execution_count": 16,
   "metadata": {},
   "outputs": [],
   "source": [
    "df_vlp = df_dict.get('VLP')\n",
    "df_brr = df_dict.get('BRR')\n",
    "df_blb = df_dict.get('BLB')\n",
    "df_brd = df_dict.get('BRD')\n",
    "df_slr = df_dict.get('SLR')\n"
   ]
  },
  {
   "cell_type": "markdown",
   "metadata": {},
   "source": [
    "### Check aantal records per datafame"
   ]
  },
  {
   "cell_type": "code",
   "execution_count": 17,
   "metadata": {},
   "outputs": [
    {
     "name": "stdout",
     "output_type": "stream",
     "text": [
      "BRR records: expected 12794, actual 12794\n",
      "BLB records: expected 53336, actual 53336\n",
      "BRD records: expected 102462, actual 102462\n"
     ]
    }
   ],
   "source": [
    "# Extract the expected counts from df_slr\n",
    "expected_brr = df_slr['AantalBRRrecords'].iloc[0]\n",
    "expected_blb = df_slr['AantalBLBrecords'].iloc[0]\n",
    "expected_brd = df_slr['AantalBRDrecords'].iloc[0]\n",
    "\n",
    "# Get the actual counts from the DataFrames\n",
    "actual_brr = len(df_brr)\n",
    "actual_blb = len(df_blb)\n",
    "actual_brd = len(df_brd)\n",
    "\n",
    "# Compare and print the results\n",
    "print(f\"BRR records: expected {expected_brr}, actual {actual_brr}\")\n",
    "print(f\"BLB records: expected {expected_blb}, actual {actual_blb}\")\n",
    "print(f\"BRD records: expected {expected_brd}, actual {actual_brd}\")"
   ]
  },
  {
   "cell_type": "markdown",
   "metadata": {},
   "source": [
    "## Data anonimiseren"
   ]
  },
  {
   "cell_type": "markdown",
   "metadata": {},
   "source": [
    "### Sleuteltabel\n",
    "Met deze tabel kunnen de geanonimiseerde data later weer gekoppeld worden."
   ]
  },
  {
   "cell_type": "code",
   "execution_count": 18,
   "metadata": {},
   "outputs": [],
   "source": [
    "# Extract the key columns from each DataFrame\n",
    "df_brr_key = df_brr[['Burgerservicenummer', 'Onderwijsnummer']]\n",
    "df_blb_key = df_blb[['Burgerservicenummer', 'Onderwijsnummer']]\n",
    "df_brd_key = df_brd[['Burgerservicenummer', 'Onderwijsnummer']]\n",
    "\n",
    "# Concatenate the keys into a single DataFrame\n",
    "df_key = pd.concat([df_brr_key, df_blb_key, df_brd_key])\n",
    "\n",
    "# Remove duplicates to ensure unique combinations of Burgerservicenummer and Onderwijsnummer\n",
    "df_key = df_key.drop_duplicates(subset=['Burgerservicenummer', 'Onderwijsnummer'])\n",
    "\n",
    "# Sort by Onderwijsnummer and Burgerservicenummer\n",
    "df_key = df_key.sort_values(\n",
    "    by=['Onderwijsnummer', 'Burgerservicenummer'],\n",
    "    ascending=[True, True],\n",
    "    na_position='last'\n",
    ")\n",
    "\n",
    "# Assign sequential student_id starting from 1\n",
    "df_key['student_id'] = range(1, len(df_key) + 1)\n",
    "\n",
    "# Convert to string to be able to merge\n",
    "df_key['student_id'] = df_key['student_id'].astype(str)\n"
   ]
  },
  {
   "cell_type": "markdown",
   "metadata": {},
   "source": [
    "### Schoon dataframes en sla op als csv bestanden\n",
    "Gebruik de sleuteltabel om de het `Student_id` te koppelen met alle bestanden o.b.v. `Burgerservicenummer` en `Onderwijsnummer`."
   ]
  },
  {
   "cell_type": "code",
   "execution_count": 19,
   "metadata": {},
   "outputs": [],
   "source": [
    "output_folder = 'output'\n",
    "os.makedirs(output_folder, exist_ok=True)\n",
    "\n",
    "# Merge student_id into df_brr and save to .csv\n",
    "df_brr = pd.merge(df_brr, df_key[['Burgerservicenummer', 'Onderwijsnummer', 'student_id']], on=['Burgerservicenummer', 'Onderwijsnummer'], how='left')\n",
    "df_brr['Burgerservicenummer'] = df_brr['student_id'].astype(int)\n",
    "df_brr.drop(columns=['student_id'], inplace=True)\n",
    "df_brr['Onderwijsnummer'] = ''\n",
    "brr_filename = os.path.join(output_folder, 'BRR.csv')\n",
    "df_brr.to_csv(brr_filename, index=False)\n",
    "\n",
    "# Merge student_id into df_blb and save to .csv\n",
    "df_blb = pd.merge(df_blb, df_key[['Burgerservicenummer', 'Onderwijsnummer', 'student_id']], on=['Burgerservicenummer', 'Onderwijsnummer'], how='left')\n",
    "df_blb['Burgerservicenummer'] = df_blb['student_id'].astype(int)\n",
    "df_blb.drop(columns=['student_id'], inplace=True)\n",
    "df_blb['Onderwijsnummer'] = ''\n",
    "blb_filename = os.path.join(output_folder, 'BLB.csv')\n",
    "df_blb.to_csv(blb_filename, index=False)\n",
    "\n",
    "# Merge student_id into df_brd and save to .csv\n",
    "df_brd = pd.merge(df_brd, df_key[['Burgerservicenummer', 'Onderwijsnummer', 'student_id']], on=['Burgerservicenummer', 'Onderwijsnummer'], how='left')\n",
    "df_brd['Burgerservicenummer'] = df_brd['student_id'].astype(int)\n",
    "df_brd.drop(columns=['student_id'], inplace=True)\n",
    "df_brd['Onderwijsnummer'] = ''\n",
    "brd_filename = os.path.join(output_folder, 'BRD.csv')\n",
    "df_brd.to_csv(brd_filename, index=False)\n"
   ]
  },
  {
   "cell_type": "markdown",
   "metadata": {},
   "source": [
    "### Schoon sleutelbestand en sla op als csv bestand"
   ]
  },
  {
   "cell_type": "code",
   "execution_count": 20,
   "metadata": {},
   "outputs": [],
   "source": [
    "output_folder = 'output'\n",
    "os.makedirs(output_folder, exist_ok=True)\n",
    "key_filename = os.path.join(output_folder, 'sleutelbestand.csv')\n",
    "\n",
    "# Remove duplicates\n",
    "df_key = df_key.drop_duplicates(subset=['Burgerservicenummer', 'Onderwijsnummer'])\n",
    "\n",
    "# Save df_key to a CSV file\n",
    "df_key.to_csv(key_filename, index=False)\n"
   ]
  },
  {
   "cell_type": "markdown",
   "metadata": {},
   "source": [
    "### Sla schoon bekostigingsbestand op"
   ]
  },
  {
   "cell_type": "markdown",
   "metadata": {},
   "source": [
    "Hier creëren we het geanonimiseerde bekostigingsbestand in dezelfde structuur en volgorde als het origineel. \n",
    "> ! Het is nog niet gelukt om de volgorde exact gelijk te krijgen"
   ]
  },
  {
   "cell_type": "code",
   "execution_count": 21,
   "metadata": {},
   "outputs": [],
   "source": [
    "# Step 1: Combine df_brr, df_blb, and df_brd into one list\n",
    "combined_data = (\n",
    "    df_brr.values.tolist() +\n",
    "    df_blb.values.tolist() +\n",
    "    df_brd.values.tolist()\n",
    ")\n",
    "\n",
    "# Step 2: Sort combined data by student_id\n",
    "sorted_data = sorted(\n",
    "    combined_data,\n",
    "    key=lambda x: (\n",
    "        x[1],  # Sort by student_id (x[1]) for all record types\n",
    "        0 if x[0] == 'BLB' else 1 if x[0] == 'BRD' else 2,  # Sort by record type (BLB first, then BRD, BRR)\n",
    "        (x[3], float(x[4]) if x[0] in ['BRD', 'BRR'] and x[4].replace('.', '', 1).isdigit() else float('inf'), x[4]) # For BRD and BRR records, sort by x[3] first and then by x[4]\n",
    "    )\n",
    ")\n",
    "\n",
    "# Step 3: Add the first line from df_vlp and the last line from df_slr\n",
    "first_line = df_vlp.iloc[0].values.tolist()  # First row from df_vlp\n",
    "last_line = df_slr.iloc[-1].values.tolist()  # Last row from df_slr\n",
    "\n",
    "# Step 4: Combine everything into one list\n",
    "final_data = [first_line] + sorted_data + [last_line]\n",
    "\n",
    "# Step 5: Define the output folder and file path\n",
    "output_folder = 'output'\n",
    "os.makedirs(output_folder, exist_ok=True)\n",
    "output_filename = os.path.join(output_folder, 'output.csv')\n",
    "\n",
    "# Step 6: Write to a .csv file with '|' as the delimiter and no headers\n",
    "with open(output_filename, 'w') as f:\n",
    "    for row in final_data:\n",
    "        f.write('|'.join(map(str, row)) + '\\n') # Write each row separately, keeping the number of delimiters equal to the number of columns in each row\n"
   ]
  },
  {
   "cell_type": "markdown",
   "metadata": {},
   "source": [
    "## Vergelijk input en output file"
   ]
  },
  {
   "cell_type": "markdown",
   "metadata": {},
   "source": [
    "Poging om het geanonimiseerde bestand te vergelijken, maar door de afwijkende volgorde kan de vergelijking niet (op deze manier) gemaakt worden."
   ]
  },
  {
   "cell_type": "code",
   "execution_count": 22,
   "metadata": {},
   "outputs": [
    {
     "name": "stdout",
     "output_type": "stream",
     "text": [
      "Error: Data mismatch detected for line:\n",
      "Input: BRD|013852139|112603082|25DW|4008006|N|mv|LAAG|35255|HBO-BA|B|20220901|20230831|J|S|DT|20220803|48|ONDERWIJS|BEKOSTIGD||||J|J\n",
      "Output: BRD|31||25DW|3951084|N|mv|LAAG|35195|HBO-BA|D|20220901|20230831|J|S|DT|20220718|48|ONDERWIJS|BEKOSTIGD||||J|J\n"
     ]
    }
   ],
   "source": [
    "# File paths\n",
    "folder = 'data'\n",
    "file = 'DEFBEK_2025_20240522_25DW.csv'\n",
    "input_file = os.path.join(folder, file)\n",
    "\n",
    "output_folder = 'output'\n",
    "os.makedirs(output_folder, exist_ok=True)  # Ensure the output folder exists\n",
    "output_filename = os.path.join(output_folder, 'output.csv')\n",
    "\n",
    "# Open the input and output files\n",
    "with open(input_file, 'r') as infile, open(output_filename, 'r') as outfile:\n",
    "    # Read all lines from both files\n",
    "    input_lines = infile.readlines()\n",
    "    output_lines = outfile.readlines()\n",
    "\n",
    "    # Ensure both files have the same number of lines\n",
    "    if len(input_lines) != len(output_lines):\n",
    "        print(\"Error: The files have different number of rows.\")\n",
    "    else:\n",
    "        # Process each line and check conditions\n",
    "        for input_line, output_line in zip(input_lines, output_lines):\n",
    "            # Split the lines by delimiter ('|')\n",
    "            input_columns = input_line.strip().split('|')\n",
    "            output_columns = output_line.strip().split('|')\n",
    "\n",
    "            # Ensure both lines have the same number of columns\n",
    "            if len(input_columns) != len(output_columns):\n",
    "                print(\"Error: The rows have different number of columns.\")\n",
    "                break\n",
    "            else:\n",
    "                # Compare columns, excluding 'Burgerservicenummer' (index 1) and 'Onderwijsnummer' (index 2)\n",
    "                input_columns_to_check = input_columns[3:]  # Excluding the first three columns (index 1 and 2)\n",
    "                output_columns_to_check = output_columns[3:]  # Excluding the first three columns (index 1 and 2)\n",
    "\n",
    "                # Check if any other columns have changed\n",
    "                if input_columns_to_check != output_columns_to_check:\n",
    "                    print(f\"Error: Data mismatch detected for line:\\nInput: {input_line.strip()}\\nOutput: {output_line.strip()}\")\n",
    "                    break\n",
    "        else:\n",
    "            # If no errors are found, print success\n",
    "            print(\"Success: Files are similar as expected.\")\n"
   ]
  },
  {
   "cell_type": "markdown",
   "metadata": {},
   "source": [
    "De mismatch wordt veroorzaakt door een verkeerde sortering bij het toekennen van student_id's bij het aanmnaken van de sleuteltabel. \n",
    "\n",
    "> heeft dit gevolgen voor het inlezen?"
   ]
  }
 ],
 "metadata": {
  "kernelspec": {
   "display_name": "base",
   "language": "python",
   "name": "python3"
  },
  "language_info": {
   "codemirror_mode": {
    "name": "ipython",
    "version": 3
   },
   "file_extension": ".py",
   "mimetype": "text/x-python",
   "name": "python",
   "nbconvert_exporter": "python",
   "pygments_lexer": "ipython3",
   "version": "3.11.7"
  }
 },
 "nbformat": 4,
 "nbformat_minor": 2
}
